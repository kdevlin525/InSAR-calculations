{
 "cells": [
  {
   "cell_type": "code",
   "execution_count": 1,
   "id": "0d5c9a6b",
   "metadata": {},
   "outputs": [],
   "source": [
    "import argparse\n",
    "import isce\n",
    "import isceobj\n",
    "import os\n",
    "from osgeo import gdal\n",
    "from osgeo import gdal_array\n",
    "import numpy as np\n",
    "import xml.etree.ElementTree as ET\n",
    "\n"
   ]
  },
  {
   "cell_type": "code",
   "execution_count": 2,
   "id": "21265e10",
   "metadata": {},
   "outputs": [],
   "source": [
    "###Folowing files need to be the same size as your output grid.\n",
    "latfile  = '/data/krd86/cropped/geom_reference/lat.rdr.4alks_20rlks.full.vrt'\n",
    "lonfile  = '/data/krd86/cropped/geom_reference/lon.rdr.4alks_20rlks.full.vrt'"
   ]
  },
  {
   "cell_type": "code",
   "execution_count": 8,
   "id": "4ee08ec9",
   "metadata": {},
   "outputs": [],
   "source": [
    "###Files to resample from geo coords\n",
    "infile       = 'geo.int'\n",
    "resampMethod = 'near'\n",
    "outfile      = 'ungeo.int'"
   ]
  },
  {
   "cell_type": "code",
   "execution_count": 41,
   "id": "9435752d",
   "metadata": {},
   "outputs": [],
   "source": [
    "def writeVRT(infile, latFile, lonFile):\n",
    "#This function is modified from isce2gis.py\n",
    "            tree = ET.parse(infile + '.vrt')\n",
    "            root = tree.getroot()\n",
    "\n",
    "            meta = ET.SubElement(root, 'metadata')\n",
    "            meta.attrib['domain'] = \"GEOLOCATION\"\n",
    "            meta.tail = '\\n'\n",
    "            meta.text = '\\n    '\n",
    "\n",
    "\n",
    "            rdict = { 'Y_DATASET' : latFile,\n",
    "                      'X_DATASET' : lonFile,\n",
    "                      'X_BAND' : \"1\",\n",
    "                      'Y_BAND' : \"1\",\n",
    "                      'PIXEL_OFFSET': \"0\",\n",
    "                      'LINE_OFFSET' : \"0\",\n",
    "                      'LINE_STEP' : \"1\",\n",
    "                      'PIXEL_STEP' : \"1\" }\n",
    "\n",
    "            for key, val in rdict.items():\n",
    "                data = ET.SubElement(meta, 'mdi')\n",
    "                data.text = val\n",
    "                data.attrib['key'] = key\n",
    "                data.tail = '\\n    '\n",
    "\n",
    "            data.tail = '\\n'\n",
    "            tree.write(infile + '.vrt')"
   ]
  },
  {
   "cell_type": "code",
   "execution_count": 34,
   "id": "79a87c9a",
   "metadata": {},
   "outputs": [],
   "source": [
    "##get number of rows and columns in radar coords file (lat)\n",
    "raster = gdal.Open(latfile)\n",
    "radarnx=raster.RasterXSize\n",
    "radarny=raster.RasterYSize\n",
    "cols,rows=np.meshgrid(np.arange(1,radarnx+1),np.arange(radarny,0,-1))\n",
    "\n",
    "#make new files of columns and rows, in radar coordinates\n",
    "colfile = 'cols.r4'\n",
    "rowfile = 'rows.r4'\n",
    "gcolfile = 'geo_cols.r4'\n",
    "growfile = 'geo_rows.r4'\n",
    "driver=gdal.GetDriverByName('ISCE')\n",
    "colds = driver.Create(colfile,radarnx,radarny,1,gdal.GDT_Float32)\n",
    "colds.GetRasterBand(1).WriteArray(cols)\n",
    "colds=None\n",
    "\n",
    "colds = driver.Create(rowfile,radarnx,radarny,1,gdal.GDT_Float32)\n",
    "colds.GetRasterBand(1).WriteArray(rows)\n",
    "colds=None\n",
    "\n",
    "cmd = 'fixImageXml.py -i '+colfile+' -f'\n",
    "os.system(cmd)\n",
    "cmd = 'fixImageXml.py -i '+rowfile+' -f'\n",
    "os.system(cmd)\n",
    "writeVRT(colfile, latfile, lonfile)\n",
    "writeVRT(rowfile, latfile, lonfile)"
   ]
  },
  {
   "cell_type": "code",
   "execution_count": 35,
   "id": "16deda82",
   "metadata": {},
   "outputs": [],
   "source": [
    "##get number of rows and columns + min/max range of input file\n",
    "raster = gdal.Open(infile)\n",
    "geonx=raster.RasterXSize\n",
    "geony=raster.RasterYSize\n",
    "\n",
    "minLon = raster.GetGeoTransform()[0]\n",
    "deltaLon = raster.GetGeoTransform()[1]\n",
    "maxLat = raster.GetGeoTransform()[3]\n",
    "deltaLat = raster.GetGeoTransform()[5]\n",
    "minLat = maxLat + geony*deltaLat\n",
    "maxLon = minLon + geonx*deltaLon\n",
    "WSEN = str(minLon)+' '+str(minLat)+' '+str(maxLon)+' '+str(maxLat)\n"
   ]
  },
  {
   "cell_type": "code",
   "execution_count": 38,
   "id": "b0f9fadd",
   "metadata": {},
   "outputs": [
    {
     "name": "stdout",
     "output_type": "stream",
     "text": [
      "gdalwarp -of ISCE -geoloc  -te -119.7 35.8 -119.5 36.0 -tr 0.0001 -0.0001 -srcnodata 0 -dstnodata 0  -wt float32 -r bilinear rows.r4.vrt geo_rows.r4\n",
      "gdalwarp -of ISCE -geoloc  -te -119.7 35.8 -119.5 36.0 -tr 0.0001 -0.0001 -srcnodata 0 -dstnodata 0  -wt float32 -r bilinear cols.r4.vrt geo_cols.r4\n"
     ]
    },
    {
     "data": {
      "text/plain": [
       "0"
      ]
     },
     "execution_count": 38,
     "metadata": {},
     "output_type": "execute_result"
    }
   ],
   "source": [
    "#geocode row and col file\n",
    "cmd = 'gdalwarp -of ISCE -geoloc  -te '+WSEN+' -tr '+str(deltaLon)+' '+str(deltaLat)+' -srcnodata 0 -dstnodata 0  -wt float32 -r bilinear ' +rowfile +'.vrt ' + growfile\n",
    "print(cmd)\n",
    "os.system(cmd)\n",
    "cmd = 'gdalwarp -of ISCE -geoloc  -te '+WSEN+' -tr '+str(deltaLon)+' '+str(deltaLat)+' -srcnodata 0 -dstnodata 0  -wt float32 -r bilinear ' +colfile +'.vrt ' + gcolfile\n",
    "print(cmd)\n",
    "os.system(cmd)\n",
    "cmd = 'fixImageXml.py -i '+gcolfile+' -f'\n",
    "os.system(cmd)\n",
    "cmd = 'fixImageXml.py -i '+growfile+' -f'\n",
    "os.system(cmd)"
   ]
  },
  {
   "cell_type": "code",
   "execution_count": 46,
   "id": "794561a4",
   "metadata": {},
   "outputs": [],
   "source": [
    "###set any geocoding info\n",
    "WSEN = '0.5 0.5 '+str(radarnx+0.5)+' '+str(radarny+0.5)\n",
    "writeVRT(infile, growfile, gcolfile)\n",
    "print('this will just append geoloc info to the vrt - perhaps check to make sure multiple copies are not ending up there')"
   ]
  },
  {
   "cell_type": "code",
   "execution_count": 47,
   "id": "c9b41d5e",
   "metadata": {},
   "outputs": [
    {
     "name": "stdout",
     "output_type": "stream",
     "text": [
      "gdalwarp -of ISCE -geoloc  -te 0.5 0.5 1500.5 875.5 -tr 1 1 -srcnodata 0 -dstnodata 0  -wt cfloat32 -r near geo.int.vrt hithere.int\n"
     ]
    },
    {
     "data": {
      "text/plain": [
       "0"
      ]
     },
     "execution_count": 47,
     "metadata": {},
     "output_type": "execute_result"
    }
   ],
   "source": [
    "cmd = 'gdalwarp -of ISCE -geoloc  -te '+ WSEN + ' -tr 1 1 -srcnodata 0 -dstnodata 0 ' + ' -wt cfloat32 -r ' + resampMethod + ' ' + infile +'.vrt ' outfile\n",
    "print (cmd)\n",
    "os.system(cmd)\n",
    "cmd = 'fixImageXml.py -i '+outfiles+' -f'\n",
    "os.system(cmd)"
   ]
  },
  {
   "cell_type": "code",
   "execution_count": null,
   "id": "71044db0",
   "metadata": {},
   "outputs": [],
   "source": []
  }
 ],
 "metadata": {
  "kernelspec": {
   "display_name": "Python 3.6.9 64-bit",
   "language": "python",
   "name": "python3"
  },
  "language_info": {
   "codemirror_mode": {
    "name": "ipython",
    "version": 3
   },
   "file_extension": ".py",
   "mimetype": "text/x-python",
   "name": "python",
   "nbconvert_exporter": "python",
   "pygments_lexer": "ipython3",
   "version": "3.6.9"
  },
  "vscode": {
   "interpreter": {
    "hash": "31f2aee4e71d21fbe5cf8b01ff0e069b9275f58929596ceb00d14d90e3e16cd6"
   }
  }
 },
 "nbformat": 4,
 "nbformat_minor": 5
}
