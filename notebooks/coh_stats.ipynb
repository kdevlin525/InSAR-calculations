{
 "cells": [
  {
   "cell_type": "markdown",
   "metadata": {},
   "source": [
    "#### Calculates mean, median, and std dev of coherence of subsequent pairs"
   ]
  },
  {
   "cell_type": "code",
   "execution_count": 1,
   "metadata": {},
   "outputs": [],
   "source": [
    "# all the good stuff\n",
    "import os,sys\n",
    "import glob\n",
    "import pandas as pd\n",
    "import math\n",
    "from osgeo import gdal\n",
    "import numpy as np\n",
    "from array import array\n",
    "from scipy  import signal\n",
    "import matplotlib.pyplot as plt\n",
    "import matplotlib.patches as mpatches\n",
    "from scipy.stats import gaussian_kde\n",
    "#matplotlib  widget"
   ]
  },
  {
   "cell_type": "markdown",
   "metadata": {},
   "source": [
    "#### <span style=\"color:red\"> Edit this cell for path, point of interest, full res, and downlook dims</span>"
   ]
  },
  {
   "cell_type": "code",
   "execution_count": null,
   "metadata": {},
   "outputs": [],
   "source": [
    "workdir = '/data/krd86/cropped'\n",
    "alooks = 4 # azimuth looks\n",
    "rlooks = 20 # range looks\n",
    "rx = rlooks # uses these for the window \n",
    "ry = alooks\n",
    "\n",
    "# size of full res SLCs\n",
    "dx=30000\n",
    "dy=3500\n",
    "\n",
    "# downlooked size, uses this to save files\n",
    "dldx = dx/rlooks\n",
    "dldy = dy/alooks"
   ]
  },
  {
   "cell_type": "markdown",
   "metadata": {},
   "source": [
    "#### Load in dates"
   ]
  },
  {
   "cell_type": "code",
   "execution_count": 2,
   "metadata": {},
   "outputs": [],
   "source": [
    "# load in dates\n",
    "dates = [os.path.basename(x) for x in glob.glob(workdir+\"SLC_vv/2*\")]\n",
    "dates = sorted(dates)\n",
    "nd = len(dates)"
   ]
  },
  {
   "cell_type": "markdown",
   "metadata": {},
   "source": [
    "#### Define window for spatial averaging through convolution"
   ]
  },
  {
   "cell_type": "code",
   "execution_count": 4,
   "metadata": {
    "jupyter": {
     "source_hidden": true
    }
   },
   "outputs": [],
   "source": [
    "# load in 4 rows at a time (range), convolve over all columns (azimuth), average over columns, take downlooked coords\n",
    "\n",
    "# defines window of 20rx4a to convolve with full res SLC, zero padded\n",
    "windx = np.zeros((1,rx*2+1))\n",
    "windx[0,rx-math.floor(rx/2) + np.arange(1,rx)]=1\n",
    "windy = np.zeros((1,ry*2+1))\n",
    "windy[0,ry-math.floor(ry/2) + np.arange(1,ry)]=1\n",
    "windx = windx/np.sum(windx)\n",
    "windy = windy/np.sum(windy)\n",
    "wind2d = windy.T*windx"
   ]
  },
  {
   "cell_type": "markdown",
   "metadata": {},
   "source": [
    "#### Convolve window with subsquent pairs of VV SLCs strip by strip"
   ]
  },
  {
   "cell_type": "code",
   "execution_count": 35,
   "metadata": {
    "collapsed": true,
    "jupyter": {
     "outputs_hidden": true,
     "source_hidden": true
    }
   },
   "outputs": [
    {
     "name": "stdout",
     "output_type": "stream",
     "text": [
      "finished 1th igram\n",
      "finished 2th igram\n",
      "finished 3th igram\n",
      "finished 4th igram\n",
      "finished 5th igram\n",
      "finished 6th igram\n",
      "finished 7th igram\n",
      "finished 8th igram\n",
      "finished 9th igram\n",
      "finished 10th igram\n",
      "finished 11th igram\n",
      "finished 12th igram\n",
      "finished 13th igram\n",
      "finished 14th igram\n",
      "finished 15th igram\n",
      "finished 16th igram\n",
      "finished 17th igram\n",
      "finished 18th igram\n",
      "finished 19th igram\n",
      "finished 20th igram\n",
      "finished 21th igram\n",
      "finished 22th igram\n",
      "finished 23th igram\n",
      "finished 24th igram\n",
      "finished 25th igram\n",
      "finished 26th igram\n",
      "finished 27th igram\n",
      "finished 28th igram\n",
      "finished 29th igram\n",
      "finished 30th igram\n",
      "finished 31th igram\n",
      "finished 32th igram\n",
      "finished 33th igram\n",
      "finished 34th igram\n",
      "finished 35th igram\n",
      "finished 36th igram\n",
      "finished 37th igram\n",
      "finished 38th igram\n",
      "finished 39th igram\n",
      "finished 40th igram\n",
      "finished 41th igram\n",
      "finished 42th igram\n",
      "finished 43th igram\n",
      "finished 44th igram\n",
      "finished 45th igram\n",
      "finished 46th igram\n",
      "finished 47th igram\n",
      "finished 48th igram\n",
      "finished 49th igram\n",
      "finished 50th igram\n",
      "finished 51th igram\n",
      "finished 52th igram\n",
      "finished 53th igram\n",
      "finished 54th igram\n",
      "finished 55th igram\n",
      "finished 56th igram\n",
      "finished 57th igram\n",
      "finished 58th igram\n",
      "finished 59th igram\n",
      "finished 60th igram\n",
      "finished 61th igram\n",
      "finished 62th igram\n",
      "finished 63th igram\n",
      "finished 64th igram\n",
      "finished 65th igram\n",
      "finished 66th igram\n",
      "finished 67th igram\n",
      "finished 68th igram\n",
      "finished 69th igram\n",
      "finished 70th igram\n",
      "finished 71th igram\n",
      "finished 72th igram\n",
      "finished 73th igram\n",
      "finished 74th igram\n",
      "finished 75th igram\n",
      "finished 76th igram\n",
      "finished 77th igram\n",
      "finished 78th igram\n",
      "finished 79th igram\n",
      "finished 80th igram\n",
      "finished 81th igram\n",
      "finished 82th igram\n",
      "finished 83th igram\n",
      "finished 84th igram\n",
      "finished 85th igram\n",
      "finished 86th igram\n",
      "finished 87th igram\n",
      "finished 88th igram\n",
      "finished 89th igram\n",
      "finished 90th igram\n",
      "finished 91th igram\n",
      "finished 92th igram\n",
      "finished 93th igram\n",
      "finished 94th igram\n",
      "finished 95th igram\n",
      "finished 96th igram\n",
      "finished 97th igram\n",
      "finished 98th igram\n",
      "finished 99th igram\n",
      "finished 100th igram\n",
      "finished 101th igram\n",
      "finished 102th igram\n",
      "finished 103th igram\n",
      "finished 104th igram\n",
      "finished 105th igram\n",
      "finished 106th igram\n",
      "finished 107th igram\n",
      "finished 108th igram\n",
      "finished 109th igram\n",
      "finished 110th igram\n",
      "finished 111th igram\n",
      "finished 112th igram\n",
      "finished 113th igram\n",
      "finished 114th igram\n",
      "finished 115th igram\n",
      "finished 116th igram\n",
      "finished 117th igram\n",
      "finished 118th igram\n",
      "finished 119th igram\n",
      "finished 120th igram\n",
      "finished 121th igram\n",
      "finished 122th igram\n",
      "finished 123th igram\n",
      "finished 124th igram\n",
      "finished 125th igram\n",
      "finished 126th igram\n",
      "finished 127th igram\n",
      "finished 128th igram\n"
     ]
    }
   ],
   "source": [
    "slc1 = np.ndarray([alooks,dx],'complex')\n",
    "slc2 = np.ndarray([alooks,dx],'complex')\n",
    "cors = np.ndarray([int(dy/alooks),int(dx/rlooks),nd-1],'float')\n",
    "\n",
    "for i in np.arange(nd-1): #loop through subsequent SLC pairs\n",
    "    ds1 = gdal.Open(workdir+\"SLC_vv/\"+dates[i]+\"/\"+dates[i]+\".slc.full\", gdal.GA_ReadOnly)\n",
    "    ds2 = gdal.Open(workdir+\"SLC_vv/\"+dates[i+1]+\"/\"+dates[i+1]+\".slc.full\", gdal.GA_ReadOnly)\n",
    "    for j in range(0,dy-1,alooks+1): #loop over 4x30000 strips\n",
    "        slc1[:,:] = ds1.GetRasterBand(1).ReadAsArray(0,j,dx,alooks)\n",
    "        slc2[:,:] = ds2.GetRasterBand(1).ReadAsArray(0,j,dx,alooks)\n",
    "        \n",
    "        a   = slc1*np.conj(slc1)\n",
    "        b   = slc2*np.conj(slc2)\n",
    "        c   = slc1*np.conj(slc2)\n",
    "        ca  = abs(c) \n",
    "            \n",
    "        asum = signal.convolve2d(a, wind2d, mode='same') \n",
    "        bsum = signal.convolve2d(b, wind2d, mode='same')\n",
    "        csum = signal.convolve2d(c, wind2d, mode='same')\n",
    "        cmag = signal.convolve2d(ca, wind2d, mode='same')\n",
    "        \n",
    "        #cpx3 = csum/np.sqrt(asum*bsum) #alternative def of coherence\n",
    "        cpx3 = csum/cmag\n",
    "        cpx3 = np.mean(cpx3,axis=0)\n",
    "        sm   = abs(cpx3)\n",
    "        sm[np.isnan(sm)] = 0;\n",
    "        \n",
    "        if j==5:\n",
    "            cors[math.floor(j/alooks),:,i] = sm[10::20]\n",
    "        else:    \n",
    "            cors[math.ceil(j/alooks),:,i] = sm[10::20]\n",
    "    \n",
    "    good        = cors>0\n",
    "    cors[~good] = np.nan\n",
    "    print('finished '+str(i+1)+'th igram')"
   ]
  },
  {
   "cell_type": "markdown",
   "metadata": {},
   "source": [
    "#### Calculate mean, median, and std dev"
   ]
  },
  {
   "cell_type": "code",
   "execution_count": null,
   "metadata": {},
   "outputs": [],
   "source": [
    "#compute mean, median, and std dev\n",
    "cor_avg = np.mean(cors,axis=2)\n",
    "cor_med = np.median(cors,axis=2)\n",
    "cor_std = np.std(cors,axis=2)"
   ]
  },
  {
   "cell_type": "markdown",
   "metadata": {},
   "source": [
    "#### Save stats as binary files"
   ]
  },
  {
   "cell_type": "code",
   "execution_count": null,
   "metadata": {},
   "outputs": [],
   "source": [
    "driver=gdal.GetDriverByName('ISCE')\n",
    "colds = driver.Create(workdir+'cor_avg.r4',1500,875,1,gdal.GDT_Float32)\n",
    "colds.GetRasterBand(1).WriteArray(cor_avg)\n",
    "colds=None\n",
    "\n",
    "colds = driver.Create(workdir+'cor_med.r4',1500,875,1,gdal.GDT_Float32)\n",
    "colds.GetRasterBand(1).WriteArray(cor_med)\n",
    "colds=None\n",
    "\n",
    "colds = driver.Create(workdir+'cor_std.r4',1500,875,1,gdal.GDT_Float32)\n",
    "colds.GetRasterBand(1).WriteArray(cor_std)\n",
    "colds=None"
   ]
  }
 ],
 "metadata": {
  "kernelspec": {
   "display_name": "Python 3.6.9 64-bit",
   "language": "python",
   "name": "python3"
  },
  "language_info": {
   "codemirror_mode": {
    "name": "ipython",
    "version": 3
   },
   "file_extension": ".py",
   "mimetype": "text/x-python",
   "name": "python",
   "nbconvert_exporter": "python",
   "pygments_lexer": "ipython3",
   "version": "3.6.9 (default, Jan 26 2021, 15:33:00) \n[GCC 8.4.0]"
  },
  "vscode": {
   "interpreter": {
    "hash": "31f2aee4e71d21fbe5cf8b01ff0e069b9275f58929596ceb00d14d90e3e16cd6"
   }
  }
 },
 "nbformat": 4,
 "nbformat_minor": 4
}
