{
 "cells": [
  {
   "cell_type": "markdown",
   "metadata": {},
   "source": [
    "### Creates a dictionary of crop types from [CropScape](https://nassgeodata.gmu.edu/CropScape/]) data in radar coords and masks based on if crop type changed between 2019-2021"
   ]
  },
  {
   "cell_type": "code",
   "execution_count": 1,
   "metadata": {},
   "outputs": [],
   "source": [
    "# all the good stuff\n",
    "import os,sys\n",
    "import glob\n",
    "import pandas as pd\n",
    "import json\n",
    "from osgeo import gdal\n",
    "import numpy as np\n",
    "import matplotlib.pyplot as plt"
   ]
  },
  {
   "cell_type": "code",
   "execution_count": 2,
   "metadata": {},
   "outputs": [],
   "source": [
    "# create list of all Cropscape radar files\n",
    "workdir = '/data/krd86/cropped/cropscape/'\n",
    "years = [os.path.basename(x) for x in glob.glob(workdir+\"radar/CDL*\")]\n",
    "years = sorted(years)\n",
    "ny = len(years)\n",
    "\n",
    "# size of downlooked file\n",
    "dx = 1500\n",
    "dy = 875"
   ]
  },
  {
   "cell_type": "code",
   "execution_count": 3,
   "metadata": {},
   "outputs": [],
   "source": [
    "f = open(workdir+'dict/cropflag.txt')\n",
    "cropflag = [int(x) for x in f.read().splitlines()]\n",
    "f.close()\n",
    "\n",
    "f = open(workdir+'dict/cropname.txt')\n",
    "cropname = f.read().splitlines()\n",
    "f.close()"
   ]
  },
  {
   "cell_type": "code",
   "execution_count": 4,
   "metadata": {},
   "outputs": [],
   "source": [
    "crop_dict = []\n",
    "for i, value in enumerate(cropflag):\n",
    "    flag = value\n",
    "    label = cropname[i]\n",
    "    crop_dict.append([flag,label])\n",
    "\n",
    "crop_dict = pd.DataFrame(crop_dict,columns=['flag','label'])\n",
    "crop_dict.to_json(workdir+\"dict/crop_dict.json\")"
   ]
  },
  {
   "cell_type": "code",
   "execution_count": 5,
   "metadata": {},
   "outputs": [
    {
     "data": {
      "text/plain": [
       "'Corn'"
      ]
     },
     "execution_count": 5,
     "metadata": {},
     "output_type": "execute_result"
    }
   ],
   "source": [
    "crop_dict.label[0]"
   ]
  },
  {
   "cell_type": "code",
   "execution_count": 14,
   "metadata": {},
   "outputs": [],
   "source": [
    "# create mask of crops 2019-2021\n",
    "f1 = gdal.Open(workdir+'original/CDL_2019_clip_20220408094633_39327711.tif', gdal.GA_ReadOnly)\n",
    "crop_2019 = f1.ReadAsArray()\n",
    "f2 = gdal.Open(workdir+'original/CDL_2020_clip_20220408094633_39327711.tif', gdal.GA_ReadOnly)\n",
    "crop_2020 = f2.ReadAsArray()\n",
    "\n",
    "same_mask = np.ones([dy,dx])\n",
    "same_mask[crop_2020!=crop_2019] = np.nan\n",
    "diff_mask = np.ones([dy,dx])\n",
    "diff_mask[crop_2020==crop_2019] = np.nan\n",
    "\n",
    "driver=gdal.GetDriverByName('ISCE')\n",
    "mfile = driver.Create(workdir+'dict/same_mask.r4',1500,875,1,gdal.GDT_Float32)\n",
    "mfile.GetRasterBand(1).WriteArray(same_mask)\n",
    "mfile=None\n",
    "\n",
    "mfile = driver.Create(workdir+'dict/diff_mask.r4',1500,875,1,gdal.GDT_Float32)\n",
    "mfile.GetRasterBand(1).WriteArray(diff_mask)\n",
    "mfile=None"
   ]
  }
 ],
 "metadata": {
  "kernelspec": {
   "display_name": "Python 3.8.12 ('insar_analysis')",
   "language": "python",
   "name": "python3"
  },
  "language_info": {
   "codemirror_mode": {
    "name": "ipython",
    "version": 3
   },
   "file_extension": ".py",
   "mimetype": "text/x-python",
   "name": "python",
   "nbconvert_exporter": "python",
   "pygments_lexer": "ipython3",
   "version": "3.8.12 | packaged by conda-forge | (default, Jan 30 2022, 23:42:07) \n[GCC 9.4.0]"
  },
  "vscode": {
   "interpreter": {
    "hash": "70aaa7775d3c66710519d6273a12113d703c06363db8b21a258b24ecf6f245e7"
   }
  }
 },
 "nbformat": 4,
 "nbformat_minor": 4
}
