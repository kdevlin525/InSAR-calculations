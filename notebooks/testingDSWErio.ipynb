{
 "cells": [
  {
   "cell_type": "markdown",
   "metadata": {},
   "source": [
    "__to do:__ <br>\n",
    "- create list of files using pandas (check w/ Karthik re: API)\n",
    "- read in each file into memory (check)\n",
    "- save merged into xarray object\n",
    "- clip xarray object\n",
    "- write to files?"
   ]
  },
  {
   "cell_type": "code",
   "execution_count": 25,
   "metadata": {},
   "outputs": [],
   "source": [
    "# may need to install additional packages as we go\n",
    "import os, glob\n",
    "import rasterio as rio\n",
    "from rasterio.io import MemoryFile\n",
    "from rasterio.merge import merge\n",
    "import xarray as xr\n",
    "import rioxarray\n",
    "from rioxarray.merge import merge_arrays\n",
    "from collections import defaultdict\n",
    "import matplotlib.pyplot as plt\n",
    "import numpy as np\n",
    "from pyproj import Transformer\n",
    "from pyproj import CRS"
   ]
  },
  {
   "cell_type": "code",
   "execution_count": 3,
   "metadata": {},
   "outputs": [],
   "source": [
    "workdir = '/mnt/trappist-r0/kdevlin/work/'\n",
    "dates = [os.path.basename(x) for x in glob.glob(workdir+'DSWE_INTSM/**')]\n",
    "nd = len(dates)\n",
    "# want to: create list of files using collections"
   ]
  },
  {
   "cell_type": "code",
   "execution_count": 5,
   "metadata": {},
   "outputs": [],
   "source": [
    "workdir = '/mnt/trappist-r0/kdevlin/work/'\n",
    "dates = [os.path.basename(x) for x in glob.glob(workdir+'DSWE_INTSM/**')]"
   ]
  },
  {
   "cell_type": "code",
   "execution_count": null,
   "metadata": {},
   "outputs": [],
   "source": [
    "roi = {\n",
    "      \"type\": \"Feature\",\n",
    "      \"properties\": {},\n",
    "      \"geometry\": {\n",
    "        \"type\": \"Polygon\",\n",
    "        \"coordinates\": [\n",
    "          [\n",
    "            [\n",
    "              -121.60835266113281,\n",
    "              39.49874248613119\n",
    "            ],\n",
    "            [\n",
    "              -121.26983642578124,\n",
    "              39.49874248613119\n",
    "            ],\n",
    "            [\n",
    "              -121.26983642578124,\n",
    "              39.756824261131406\n",
    "            ],\n",
    "            [\n",
    "              -121.60835266113281,\n",
    "              39.756824261131406\n",
    "            ],\n",
    "            [\n",
    "              -121.60835266113281,\n",
    "              39.49874248613119\n",
    "            ]\n",
    "          ]\n",
    "        ]\n",
    "      }\n",
    "    }['geometry']"
   ]
  },
  {
   "cell_type": "code",
   "execution_count": 20,
   "metadata": {},
   "outputs": [],
   "source": [
    "filename = workdir+'DSWE_INTSM/'+dates[0]+'/crop_20210505_INTSM.tif'\n",
    "with rio.open(filename) as ds:\n",
    "    sar_bounds = ds.bounds\n",
    "    crs = ds.crs\n",
    "\n",
    "if crs != rio.crs.CRS.from_epsg(4326):\n",
    "    transformer = Transformer.from_crs(crs.to_epsg(), 4326)\n",
    "    ymin, xmin = transformer.transform(sar_bounds[0], sar_bounds[1])\n",
    "    ymax, xmax = transformer.transform(sar_bounds[2], sar_bounds[3])\n",
    "    bounds = [xmin, ymin, xmax, ymax]"
   ]
  },
  {
   "cell_type": "code",
   "execution_count": 28,
   "metadata": {},
   "outputs": [
    {
     "data": {
      "text/plain": [
       "CRS.from_epsg(9473)"
      ]
     },
     "execution_count": 28,
     "metadata": {},
     "output_type": "execute_result"
    }
   ],
   "source": [
    "crs"
   ]
  },
  {
   "cell_type": "code",
   "execution_count": 13,
   "metadata": {},
   "outputs": [
    {
     "data": {
      "text/plain": [
       "<matplotlib.image.AxesImage at 0x7fac4c71db50>"
      ]
     },
     "execution_count": 13,
     "metadata": {},
     "output_type": "execute_result"
    },
    {
     "data": {
      "image/png": "[encoded data removed]",
      "text/plain": [
       "<Figure size 432x288 with 1 Axes>"
      ]
     },
     "metadata": {
      "needs_background": "light"
     },
     "output_type": "display_data"
    }
   ],
   "source": [
    "f1 = rioxarray.open_rasterio(workdir+'DSWE_INTSM/'+dates[0]+'/LC08_CU_005011_20210505_20210521_02_INTSM.TIF')\n",
    "f2 = rioxarray.open_rasterio(workdir+'DSWE_INTSM/'+dates[0]+'/LC08_CU_006011_20210505_20210521_02_INTSM.TIF')\n",
    "arrays = [f1,f2]\n",
    "merged = merge_arrays(arrays)\n",
    "plt.imshow(merged[0],vmin=0,vmax=4)"
   ]
  }
 ],
 "metadata": {
  "kernelspec": {
   "display_name": "Python 3.8.12 ('insar_analysis')",
   "language": "python",
   "name": "python3"
  },
  "language_info": {
   "codemirror_mode": {
    "name": "ipython",
    "version": 3
   },
   "file_extension": ".py",
   "mimetype": "text/x-python",
   "name": "python",
   "nbconvert_exporter": "python",
   "pygments_lexer": "ipython3",
   "version": "3.8.12"
  },
  "orig_nbformat": 4,
  "vscode": {
   "interpreter": {
    "hash": "70aaa7775d3c66710519d6273a12113d703c06363db8b21a258b24ecf6f245e7"
   }
  }
 },
 "nbformat": 4,
 "nbformat_minor": 2
}
