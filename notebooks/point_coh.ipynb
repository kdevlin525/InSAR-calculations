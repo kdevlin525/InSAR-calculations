{
 "cells": [
  {
   "cell_type": "markdown",
   "metadata": {},
   "source": [
    "#### Calculates coherence of a single downlooked pixel for subsequent pairs"
   ]
  },
  {
   "cell_type": "code",
   "execution_count": 1,
   "metadata": {},
   "outputs": [],
   "source": [
    "# notebook dependecies\n",
    "import os,sys\n",
    "import glob\n",
    "from osgeo import gdal\n",
    "import numpy as np\n",
    "from array import array\n",
    "import matplotlib.pyplot as plt\n",
    "#%matplotlib  widget"
   ]
  },
  {
   "cell_type": "markdown",
   "metadata": {},
   "source": [
    "#### <span style=\"color:red\"> Edit this cell for path, point of interest, and downlook dims</span>"
   ]
  },
  {
   "cell_type": "code",
   "execution_count": null,
   "metadata": {},
   "outputs": [],
   "source": [
    "# working directory\n",
    "workdir = '/data/krd86/cropped/'\n",
    "\n",
    "pixx = 5000 # r full res coord\n",
    "pixy = 200 # a full res coord\n",
    "\n",
    "alooks = 4 # number of azimuth looks\n",
    "rlooks = 20 # number of range looks"
   ]
  },
  {
   "cell_type": "markdown",
   "metadata": {},
   "source": [
    "#### Load in dates"
   ]
  },
  {
   "cell_type": "code",
   "execution_count": 2,
   "metadata": {},
   "outputs": [],
   "source": [
    "dates = [os.path.basename(x) for x in glob.glob(workdir+\"SLC_vv/2*\")]\n",
    "dates = sorted(dates)\n",
    "nd = len(dates)"
   ]
  },
  {
   "cell_type": "markdown",
   "metadata": {},
   "source": [
    "#### Pulls out a box around a specific point, spatially averages over that box. This is currently set to VV only."
   ]
  },
  {
   "cell_type": "code",
   "execution_count": null,
   "metadata": {
    "jupyter": {
     "source_hidden": true
    }
   },
   "outputs": [],
   "source": [
    "slcsvv = np.ndarray([len(dates),alooks,rlooks],'complex')\n",
    "for i in np.arange(nd):\n",
    "    ds = gdal.Open(workdir+\"SLC_vv/\"+dates[i]+\"/\"+dates[i]+\".slc.full\", gdal.GA_ReadOnly)\n",
    "    slcsvv[i,:,:] = ds.GetRasterBand(1).ReadAsArray(pixx-rlooks/2,pixy-alooks/2,rlooks,alooks)\n",
    "\n",
    "allcovsvv = np.zeros([nd])\n",
    "\n",
    "numints = np.cumsum(np.arange(nd))\n",
    "numints = np.max(numints)\n",
    "ids = np.ndarray([numints,2])\n",
    "\n",
    "for i in np.arange(nd-1):\n",
    "        # making interferograms, only subsequent pairs\n",
    "        ints = slcsvv[i,:,:] * np.conj(slcsvv[i+1,:,:])\n",
    "        # take the mean over all the pixels in this area (complex space)\n",
    "        cov = np.mean(ints,axis=(0,1))\n",
    "        # this is same as <a a*>\n",
    "        intmag = np.mean(np.abs(ints),axis=(0,1))\n",
    "        # coherence magnitude \n",
    "        covw = cov/intmag\n",
    "        allcovsvv[i]=np.abs(covw)   "
   ]
  },
  {
   "cell_type": "markdown",
   "metadata": {},
   "source": [
    "#### Simple plot"
   ]
  },
  {
   "cell_type": "code",
   "execution_count": null,
   "metadata": {},
   "outputs": [],
   "source": [
    "plt.subplot(1, 2, 1)\n",
    "plt.plot(allcovsvv)"
   ]
  }
 ],
 "metadata": {
  "kernelspec": {
   "display_name": "Python 3.8.12 ('insar_analysis')",
   "language": "python",
   "name": "python3"
  },
  "language_info": {
   "codemirror_mode": {
    "name": "ipython",
    "version": 3
   },
   "file_extension": ".py",
   "mimetype": "text/x-python",
   "name": "python",
   "nbconvert_exporter": "python",
   "pygments_lexer": "ipython3",
   "version": "3.8.12"
  },
  "vscode": {
   "interpreter": {
    "hash": "70aaa7775d3c66710519d6273a12113d703c06363db8b21a258b24ecf6f245e7"
   }
  }
 },
 "nbformat": 4,
 "nbformat_minor": 4
}
